{
  "nbformat": 4,
  "nbformat_minor": 0,
  "metadata": {
    "file_extension": ".py",
    "kernelspec": {
      "name": "python3",
      "display_name": "Python 3"
    },
    "language_info": {
      "codemirror_mode": {
        "name": "ipython",
        "version": 3
      },
      "file_extension": ".py",
      "mimetype": "text/x-python",
      "name": "python",
      "nbconvert_exporter": "python",
      "pygments_lexer": "ipython3",
      "version": "3.6.9"
    },
    "mimetype": "text/x-python",
    "name": "python",
    "npconvert_exporter": "python",
    "pygments_lexer": "ipython3",
    "version": 3,
    "colab": {
      "name": "birds.ipynb",
      "provenance": [],
      "toc_visible": true,
      "include_colab_link": true
    },
    "accelerator": "GPU"
  },
  "cells": [
    {
      "cell_type": "markdown",
      "metadata": {
        "id": "view-in-github",
        "colab_type": "text"
      },
      "source": [
        "<a href=\"https://colab.research.google.com/github/Guillem96/zsl-pytorch/blob/master/examples/birds.ipynb\" target=\"_parent\"><img src=\"https://colab.research.google.com/assets/colab-badge.svg\" alt=\"Open In Colab\"/></a>"
      ]
    },
    {
      "cell_type": "code",
      "metadata": {
        "id": "biqZyjOVYPn5",
        "colab_type": "code",
        "colab": {}
      },
      "source": [
        "# !git clone https://github.com/Guillem96/zsl-pytorch\n",
        "# !cp -r zsl-pytorch/* ."
      ],
      "execution_count": 0,
      "outputs": []
    },
    {
      "cell_type": "code",
      "metadata": {
        "id": "0u6JmQvSZOLm",
        "colab_type": "code",
        "colab": {}
      },
      "source": [
        "# from google.colab import files\n",
        "# files.upload()\n",
        "# !mkdir ~/.kaggle\n",
        "# !cp kaggle.json ~/.kaggle/\n",
        "# !chmod 600 ~/.kaggle/kaggle.json"
      ],
      "execution_count": 0,
      "outputs": []
    },
    {
      "cell_type": "code",
      "metadata": {
        "id": "RyL8P3hdY8mj",
        "colab_type": "code",
        "colab": {}
      },
      "source": [
        "# !pip install wikipedia\n",
        "# !cd data && source download-birds.sh"
      ],
      "execution_count": 0,
      "outputs": []
    },
    {
      "cell_type": "code",
      "metadata": {
        "id": "O9FebsYYYLjK",
        "colab_type": "code",
        "colab": {}
      },
      "source": [
        "%reload_ext autoreload\n",
        "%autoreload 2"
      ],
      "execution_count": 0,
      "outputs": []
    },
    {
      "cell_type": "code",
      "metadata": {
        "id": "aP749sPUYLjP",
        "colab_type": "code",
        "colab": {}
      },
      "source": [
        "import sys\n",
        "import random\n",
        "from pathlib import Path\n",
        "\n",
        "import torch\n",
        "import numpy as np\n",
        "\n",
        "import zsl"
      ],
      "execution_count": 0,
      "outputs": []
    },
    {
      "cell_type": "code",
      "metadata": {
        "id": "UAzxiwChYLjR",
        "colab_type": "code",
        "colab": {}
      },
      "source": [
        "BASE_PATH = Path('data/birds/150')\n",
        "device = torch.device('cuda' if torch.cuda.is_available() else 'cpu')"
      ],
      "execution_count": 0,
      "outputs": []
    },
    {
      "cell_type": "markdown",
      "metadata": {
        "id": "3ZKAA-GnYLjU",
        "colab_type": "text"
      },
      "source": [
        "Set random seed for reproducibility. `zsl` sets the random seed for:\n",
        "\n",
        "- Python `random` package.\n",
        "- `numpy`\n",
        "- `torch`"
      ]
    },
    {
      "cell_type": "code",
      "metadata": {
        "id": "k4-wO_SuYLjV",
        "colab_type": "code",
        "colab": {}
      },
      "source": [
        "zsl.seed(0)"
      ],
      "execution_count": 0,
      "outputs": []
    },
    {
      "cell_type": "markdown",
      "metadata": {
        "id": "bsWwkpeGYLjY",
        "colab_type": "text"
      },
      "source": [
        "## Getting ready for Zero Shot Learning\n",
        "\n",
        "1. Split the classes in Zero Shot Classes and non Zero Shot. In other words, decide which classes are going to be available during training, and which not.\n",
        "2. Declare a function that given the class name, looks for the bird description on wikipedia."
      ]
    },
    {
      "cell_type": "code",
      "metadata": {
        "id": "AVcpi3KnYLjZ",
        "colab_type": "code",
        "colab": {
          "base_uri": "https://localhost:8080/",
          "height": 34
        },
        "outputId": "f984397b-88bb-4eec-c6c5-1781bdd24d9d"
      },
      "source": [
        "with (BASE_PATH / 'BIRDS-150.txt').open() as f:\n",
        "    all_classes = [c.split(':')[1] for c in f.read().split(',') if c]\n",
        "\n",
        "print('Number of classes:', len(all_classes))"
      ],
      "execution_count": 8,
      "outputs": [
        {
          "output_type": "stream",
          "text": [
            "Number of classes: 150\n"
          ],
          "name": "stdout"
        }
      ]
    },
    {
      "cell_type": "markdown",
      "metadata": {
        "id": "GYRpNu6NYLjc",
        "colab_type": "text"
      },
      "source": [
        "### Split the classes\n",
        "\n",
        "We define a probability $P(C)$ that given a class $C$ it would belong to the Zero Shot Classes. In our case, we set a 20% of the classes.\n",
        "\n",
        "$ P(C) = 0.2 $"
      ]
    },
    {
      "cell_type": "code",
      "metadata": {
        "id": "8g6tBS03YLjd",
        "colab_type": "code",
        "colab": {
          "base_uri": "https://localhost:8080/",
          "height": 51
        },
        "outputId": "3ec14342-4c0d-4d7e-89d8-6c19e9381480"
      },
      "source": [
        "PC = .2\n",
        "classes, zs_classes = zsl.utils.split_classes(all_classes, PC)\n",
        "\n",
        "print('Number of ZS classes:', len(zs_classes))\n",
        "print('Number of NON-ZS classes:', len(classes))"
      ],
      "execution_count": 9,
      "outputs": [
        {
          "output_type": "stream",
          "text": [
            "Number of ZS classes: 26\n",
            "Number of NON-ZS classes: 124\n"
          ],
          "name": "stdout"
        }
      ]
    },
    {
      "cell_type": "markdown",
      "metadata": {
        "id": "L5Lct4DRYLjg",
        "colab_type": "text"
      },
      "source": [
        "### Define a function to describe the labels\n",
        "\n",
        "The text that describes the labels (birds), will come from wikipedia. To retrieve text from wikipedia corpus, we are going to use a convinient python package called `wikipedia`. With `wikipedia` package, we can retrieve summaries of the birds with a concrete number of sentences.\n",
        "\n",
        "Later, we are going to encode the birds summaries in order the description matches with a pretrined embedding vocabulary, for example GloVe vectors.\n",
        "\n",
        "First, we set the wikipedia language to english.\n"
      ]
    },
    {
      "cell_type": "code",
      "metadata": {
        "id": "Krh0NPVUYLjh",
        "colab_type": "code",
        "colab": {}
      },
      "source": [
        "import wikipedia\n",
        "wikipedia.set_lang('en')"
      ],
      "execution_count": 0,
      "outputs": []
    },
    {
      "cell_type": "markdown",
      "metadata": {
        "id": "hQ8simJcYLjj",
        "colab_type": "text"
      },
      "source": [
        "`zsl` provides a convinien method to create summaries coming from wikipedia."
      ]
    },
    {
      "cell_type": "code",
      "metadata": {
        "id": "TJZQ2uEmYLjj",
        "colab_type": "code",
        "colab": {
          "base_uri": "https://localhost:8080/",
          "height": 54
        },
        "outputId": "7396d237-323b-41cc-bf18-43244699a172"
      },
      "source": [
        "zsl.utils.wikipedia_description(classes[3], sentences=2)"
      ],
      "execution_count": 11,
      "outputs": [
        {
          "output_type": "execute_result",
          "data": {
            "text/plain": [
              "'The American bittern (Botaurus lentiginosus) is a species of wading bird in the heron family. It has a Nearctic distribution, breeding in Canada and the northern and central parts of the United States, and wintering in the U.S. Gulf Coast states, all of Florida into the Everglades, the Caribbean islands and parts of Central America.'"
            ]
          },
          "metadata": {
            "tags": []
          },
          "execution_count": 11
        }
      ]
    },
    {
      "cell_type": "markdown",
      "metadata": {
        "id": "UB3FGgiWYLjn",
        "colab_type": "text"
      },
      "source": [
        "We can see that wikipedia text contains a lot of uppercase letters and punctuations that we are not interested in. Thanks to `wikipedia_description` function, we can do some simple text cleaning. "
      ]
    },
    {
      "cell_type": "code",
      "metadata": {
        "id": "u4FCnD3rYLjn",
        "colab_type": "code",
        "colab": {
          "base_uri": "https://localhost:8080/",
          "height": 54
        },
        "outputId": "a178eb7e-6441-4405-d63e-e67b3e40eea9"
      },
      "source": [
        "import functools\n",
        "\n",
        "summary_fn = functools.partial(zsl.utils.wikipedia_description,\n",
        "                               remove_punct=True,\n",
        "                               to_lower=True)\n",
        "\n",
        "summary_fn(zs_classes[3], sentences=2)"
      ],
      "execution_count": 12,
      "outputs": [
        {
          "output_type": "execute_result",
          "data": {
            "text/plain": [
              "'the crested auklet  aethia cristatella  is a small seabird of the family alcidae  distributed throughout the northern pacific and the bering sea   the species feeds by diving in deep waters  eating krill and a variety of small marine animals '"
            ]
          },
          "metadata": {
            "tags": []
          },
          "execution_count": 12
        }
      ]
    },
    {
      "cell_type": "markdown",
      "metadata": {
        "id": "ppqSswE5YLjq",
        "colab_type": "text"
      },
      "source": [
        "Get descriptions for all labels, so later we can generate a vocabulary."
      ]
    },
    {
      "cell_type": "code",
      "metadata": {
        "id": "i6BInjKmYLjr",
        "colab_type": "code",
        "colab": {}
      },
      "source": [
        "from tqdm import tqdm\n",
        "\n",
        "# Map some classes that are not directly found in wikipedia\n",
        "mapping_unknown = {\n",
        "    'CHARA DE COLLAR': 'Cyanolyca armillata',\n",
        "    'CURL CRESTED ARACURI': 'Pteroglossus beauharnaisii',\n",
        "    'MYNA': 'MYNA BIRD',\n",
        "    'RED WISKERED BULBUL': 'Red-whiskered bulbul',\n",
        "    'ROBIN': 'Robin BIRD',\n",
        "    'TEAL DUCK': 'Eurasian teal',\n",
        "    'WILSONS BIRD OF PARADISE': 'Wilson\\'s bird-of-paradise'}\n",
        "\n",
        "all_texts_f = Path('.all_texts')\n",
        "if all_texts_f.exists():\n",
        "    all_texts = all_texts_f.open().read().split('\\n')\n",
        "else:\n",
        "    all_texts = [summary_fn(mapping_unknown.get(c, c)) for c in tqdm(all_classes)]\n",
        "    all_texts_f.open('w').write('\\n'.join(all_texts))"
      ],
      "execution_count": 0,
      "outputs": []
    },
    {
      "cell_type": "markdown",
      "metadata": {
        "id": "zoBlTRJcYLjt",
        "colab_type": "text"
      },
      "source": [
        "We build a vocabulary using torchtext."
      ]
    },
    {
      "cell_type": "code",
      "metadata": {
        "id": "3C3c9pCtYLjt",
        "colab_type": "code",
        "colab": {}
      },
      "source": [
        "import torchtext\n",
        "from collections import Counter\n",
        "\n",
        "counter = Counter(' '.join(all_texts).split())\n",
        "vocab = torchtext.vocab.Vocab(counter, \n",
        "                              vectors=torchtext.vocab.GloVe(name='6B', dim=300))"
      ],
      "execution_count": 0,
      "outputs": []
    },
    {
      "cell_type": "markdown",
      "metadata": {
        "id": "0Xk9x4raYLjv",
        "colab_type": "text"
      },
      "source": [
        "Now that our vocabulary is ready, we can see the semantic representation of any word.\n",
        "\n",
        "For instance, let's see 'bird' representation"
      ]
    },
    {
      "cell_type": "code",
      "metadata": {
        "id": "gA2y-zm-YLjw",
        "colab_type": "code",
        "colab": {
          "base_uri": "https://localhost:8080/",
          "height": 663
        },
        "outputId": "f19c9096-3321-4a9b-d7f4-6f62807c1f5e"
      },
      "source": [
        "vocab.vectors[vocab.stoi['bird']]"
      ],
      "execution_count": 15,
      "outputs": [
        {
          "output_type": "execute_result",
          "data": {
            "text/plain": [
              "tensor([ 0.3153,  0.6543, -0.2072, -0.4703, -0.2601, -0.1169, -0.0522,  0.2718,\n",
              "        -0.3447, -0.6276,  0.4659, -0.0838, -0.4918, -0.0405, -0.2514,  0.2076,\n",
              "        -0.0377, -0.0160, -0.2665, -0.7403,  0.0146,  0.5586, -0.2426,  0.2031,\n",
              "         0.0533,  0.2582, -0.1165, -0.7504,  0.0295,  0.1133,  0.1825, -0.0840,\n",
              "        -0.9860, -0.3176, -0.3159,  0.2155, -0.1164, -0.6697, -0.6341, -0.1234,\n",
              "         0.0997, -0.0687,  0.4993,  0.4837, -0.1116, -0.1586,  0.9225, -0.1647,\n",
              "         0.1448,  0.0264,  0.0478,  0.1761,  0.1509, -0.2412,  0.1324,  0.1843,\n",
              "        -0.0918,  0.0161, -0.1071, -0.5169, -0.1736,  0.3805,  0.1885, -0.1386,\n",
              "        -0.1142, -0.1112, -0.0565,  0.2526,  0.1740,  0.6494, -0.1029,  0.6015,\n",
              "         0.1687,  0.0137, -0.3554,  0.5634,  0.4869,  0.1013,  0.3633, -0.1289,\n",
              "        -0.0901,  0.1507, -0.2779, -0.1840,  0.4755, -0.0448,  0.5085,  0.3250,\n",
              "        -0.5297, -0.2520,  0.1403, -0.3854, -0.1569,  0.2588,  0.2169,  0.3452,\n",
              "         0.2048,  0.1600, -0.1429, -0.1457,  0.4491,  0.2462, -0.3338, -0.2344,\n",
              "        -0.4117,  0.0741, -0.0687, -0.1172,  0.5015,  0.8949,  0.3613, -0.3158,\n",
              "        -1.5070,  0.4004,  0.3276, -0.3508, -0.1952,  0.6159,  0.4578, -0.3950,\n",
              "        -0.7135, -0.3866, -0.4848,  0.1416, -0.1596,  0.4564, -0.5197,  0.7211,\n",
              "         0.0827, -0.3393, -0.1475,  0.0720,  0.2311,  0.2614,  0.2760, -0.6702,\n",
              "         0.0088, -0.0180, -0.3745,  0.3403, -0.2156,  0.3109, -0.1244, -0.3429,\n",
              "        -0.7929,  0.3593,  0.0515, -0.0692, -0.4775,  0.2187, -0.2621,  0.5152,\n",
              "        -0.3568,  0.5726, -0.1345, -0.0507, -0.2152, -0.2233, -0.2445, -0.2297,\n",
              "         0.0444, -0.2828,  0.5350,  0.6386, -0.1237, -0.0077,  0.6249,  0.4917,\n",
              "         0.2402, -0.0112, -0.4994,  0.0573,  0.3802,  0.8577, -0.1040, -0.1270,\n",
              "         0.5477, -0.6826,  0.3051, -0.9184,  0.1048, -0.3679,  0.0566, -0.4672,\n",
              "        -0.8067, -0.5138, -0.3611, -0.5147, -0.3061,  0.2753, -0.3088,  0.4307,\n",
              "        -0.7617, -0.5384,  0.0915, -0.0276,  0.4615, -0.5859, -0.3692,  0.2941,\n",
              "         1.0741,  0.5269, -0.9554, -0.4644,  0.1423,  0.9793, -0.1414, -0.7026,\n",
              "         0.3490,  0.9723, -0.0535, -0.5049,  0.0047, -0.6941,  0.5805, -0.1757,\n",
              "         0.0984, -0.1131, -0.1698, -0.3803, -0.0215, -0.0936, -0.2824, -0.2253,\n",
              "         0.5887,  0.0091,  0.1544, -0.2878,  0.0282,  0.8028, -0.1256, -0.0859,\n",
              "         0.3182, -0.1273, -0.3330,  0.3196,  0.2800,  0.0344,  0.3308,  0.2384,\n",
              "         0.1629, -0.4873, -0.1759,  0.3944, -0.2402,  0.3229,  0.0144, -0.0777,\n",
              "        -0.2154, -0.1555, -0.2373, -0.1388,  0.0675,  0.4779,  0.9410,  0.6072,\n",
              "         0.1504, -0.0577, -0.5246,  0.2155,  0.0091,  0.0358,  0.2216, -0.2577,\n",
              "        -0.5546,  0.2705, -0.3508,  0.2491, -0.5752,  0.1051,  0.2111,  0.0163,\n",
              "         0.4714, -0.3537,  0.2999,  0.1565, -1.9541,  0.0274, -0.4454, -0.5168,\n",
              "        -0.2567,  0.1185,  0.2247, -0.4956, -0.6436, -0.0804, -0.0830,  0.5949,\n",
              "        -0.6678, -0.0796, -0.2289, -0.5279,  0.4288,  0.2828, -0.2719, -0.1829,\n",
              "        -0.0869, -0.1930,  0.1979, -0.3165])"
            ]
          },
          "metadata": {
            "tags": []
          },
          "execution_count": 15
        }
      ]
    },
    {
      "cell_type": "markdown",
      "metadata": {
        "id": "w5Asd5jKYLjz",
        "colab_type": "text"
      },
      "source": [
        "Finally we can create the function that maps a class to a tokenized description.\n",
        "Later, we will convert tokens to semantic representation using an `nn.Embedding` containing the semantic representations."
      ]
    },
    {
      "cell_type": "code",
      "metadata": {
        "id": "mE0XEMw3YLjz",
        "colab_type": "code",
        "colab": {
          "base_uri": "https://localhost:8080/",
          "height": 102
        },
        "outputId": "b79a82c4-d096-43c7-e695-d982ef434839"
      },
      "source": [
        "def class_to_semantic(class_name):\n",
        "    \n",
        "    # Map the class to known words\n",
        "    class_name = mapping_unknown.get(class_name, class_name)\n",
        "\n",
        "    # Look for the description in wikipedia\n",
        "    desc = summary_fn(class_name, sentences=2)\n",
        "\n",
        "    # Tokenize and return the description\n",
        "    return torch.LongTensor([vocab.stoi[w] for w in desc.split()])\n",
        "\n",
        "print('Description of', zs_classes[0])\n",
        "class_to_semantic(zs_classes[0])"
      ],
      "execution_count": 16,
      "outputs": [
        {
          "output_type": "stream",
          "text": [
            "Description of BLACKBURNIAM WARBLER\n"
          ],
          "name": "stdout"
        },
        {
          "output_type": "execute_result",
          "data": {
            "text/plain": [
              "tensor([   1, 1327,  172,  586, 1502,  195, 2566, 1502,    5,    6,   40,   57,\n",
              "          59,  172,   20,  291,    4,   87,   26,   30,   17,   69,  141, 4146,\n",
              "           7,    1,   69,  965, 3507,    1,  142,  344,  861,    2,   57,  781,\n",
              "           7,   26,  615])"
            ]
          },
          "metadata": {
            "tags": []
          },
          "execution_count": 16
        }
      ]
    },
    {
      "cell_type": "markdown",
      "metadata": {
        "id": "YsXUz9x3YLj2",
        "colab_type": "text"
      },
      "source": [
        "Now we have already done one of the most complex tasks of Zero Shot Learning: Generating a semantic representation for the labels.\n",
        "\n",
        "Now it is time to index our data using Pytorch datasets."
      ]
    },
    {
      "cell_type": "code",
      "metadata": {
        "id": "4I4L0feYYLj3",
        "colab_type": "code",
        "colab": {}
      },
      "source": [
        "train_ds = zsl.data.ZSLImageFolder(\n",
        "    BASE_PATH / 'train', \n",
        "    class_to_repr=class_to_semantic,\n",
        "    zero_shot_classes=zs_classes,\n",
        "    load_unseen=False) # In training set we don't load zs classes"
      ],
      "execution_count": 0,
      "outputs": []
    },
    {
      "cell_type": "code",
      "metadata": {
        "id": "huk1cFSJYLj5",
        "colab_type": "code",
        "colab": {
          "base_uri": "https://localhost:8080/",
          "height": 275
        },
        "outputId": "380bc2c8-e520-4928-e4c4-6e117bdf5e8c"
      },
      "source": [
        "idx = random.randint(0, len(train_ds))\n",
        "image, label, semantic = train_ds[idx]\n",
        "print('Label:', train_ds.classes[label])\n",
        "print('Description:', ' '.join(vocab.itos[i] for i in semantic.tolist()))\n",
        "\n",
        "image"
      ],
      "execution_count": 18,
      "outputs": [
        {
          "output_type": "stream",
          "text": [
            "Label: MYNA\n",
            "Description: the myna also spelled mynah is a bird of the starling family sturnidae this is a group of passerine birds which are native to southern asia especially india pakistan and bangladesh\n"
          ],
          "name": "stdout"
        },
        {
          "output_type": "execute_result",
          "data": {
            "image/png": "[encoded data removed]",
            "text/plain": [
              "<PIL.Image.Image image mode=RGB size=224x224 at 0x7F23E36ACD30>"
            ]
          },
          "metadata": {
            "tags": []
          },
          "execution_count": 18
        }
      ]
    },
    {
      "cell_type": "markdown",
      "metadata": {
        "id": "DoI-kHuesli-",
        "colab_type": "text"
      },
      "source": [
        "## Preparing the model"
      ]
    },
    {
      "cell_type": "markdown",
      "metadata": {
        "id": "x6KvkTPe0LsX",
        "colab_type": "text"
      },
      "source": [
        "For the ZSL framework, we need two main models:\n",
        "\n",
        "- `VisualFeatureExtractor`: It is a pretrained CNN that extract the features from an image. Usually it is a good practice to pretrain it with your use case. For sake of simplicity, in this examples we are going to use a pretrained ImageNet CNN.\n",
        "- `SemanticUnit`: This model generates an embedding making transformations to the semantic representation of the label. In our case, we are going to apply an LSTM semantic unit with pretrained embeddings (`vocab.vectors`) to encode the birds description.\n"
      ]
    },
    {
      "cell_type": "code",
      "metadata": {
        "id": "tX_oJvmBwzMz",
        "colab_type": "code",
        "colab": {}
      },
      "source": [
        "semantic_unit = zsl.models.BidirectionalSemanticUnit(vocab.vectors, \n",
        "                                                     vocab.stoi['<pad>'],\n",
        "                                                     hidden_size = 512,\n",
        "                                                     out_features = 512)\n",
        "\n",
        "visual_fe = zsl.models.VisualFeatureExtractor(feature_extractor='resnet50',\n",
        "                                              trainable=True)"
      ],
      "execution_count": 0,
      "outputs": []
    },
    {
      "cell_type": "code",
      "metadata": {
        "id": "zNN-q5mtslyL",
        "colab_type": "code",
        "colab": {
          "base_uri": "https://localhost:8080/",
          "height": 51
        },
        "outputId": "ac99ce1b-03d1-4f27-8f98-0d7e1a4ad5d7"
      },
      "source": [
        "print('Semantic repr shape:', semantic_unit(semantic.unsqueeze(0)).size())\n",
        "print('Visual embedding shape:', visual_fe(torch.randn(1, 3, 224, 224)).size())"
      ],
      "execution_count": 20,
      "outputs": [
        {
          "output_type": "stream",
          "text": [
            "Semantic repr shape: torch.Size([1, 512])\n",
            "Visual embedding shape: torch.Size([1, 2048])\n"
          ],
          "name": "stdout"
        }
      ]
    },
    {
      "cell_type": "markdown",
      "metadata": {
        "id": "RkqhMH9O1RpW",
        "colab_type": "text"
      },
      "source": [
        "Notice that the semantic and visual output does not have the same shape, therfore they do not have compatible shapes to operate between them.\n",
        "\n",
        "To join the two models we are going to use the `zsl.models.ZeroShot` class."
      ]
    },
    {
      "cell_type": "code",
      "metadata": {
        "id": "WF-jUcI3sl6s",
        "colab_type": "code",
        "colab": {
          "base_uri": "https://localhost:8080/",
          "height": 34
        },
        "outputId": "9f9929cb-2a0b-475c-8a36-d513239b46cd"
      },
      "source": [
        "zs_model = zsl.models.ZeroShot(visual_fe, semantic_unit)\n",
        "zs_model.visual_fe.requires_grad = True\n",
        "image_embed, semantic_embed = zs_model(torch.randn(1, 3, 224, 224),\n",
        "                                       semantic.unsqueeze(0))\n",
        "image_embed.size(), semantic_embed.size()"
      ],
      "execution_count": 21,
      "outputs": [
        {
          "output_type": "execute_result",
          "data": {
            "text/plain": [
              "(torch.Size([1, 2048]), torch.Size([1, 2048]))"
            ]
          },
          "metadata": {
            "tags": []
          },
          "execution_count": 21
        }
      ]
    },
    {
      "cell_type": "markdown",
      "metadata": {
        "id": "DoJfBAKh3r-A",
        "colab_type": "text"
      },
      "source": [
        "Now that shapes match, we can play with these tensors.\n",
        "\n",
        "As always, we can alocate out model to the GPU."
      ]
    },
    {
      "cell_type": "code",
      "metadata": {
        "id": "LbqInFfu32_J",
        "colab_type": "code",
        "colab": {}
      },
      "source": [
        "zs_model.to(device);"
      ],
      "execution_count": 0,
      "outputs": []
    },
    {
      "cell_type": "markdown",
      "metadata": {
        "id": "qdgd30hA4WGE",
        "colab_type": "text"
      },
      "source": [
        "### Model forward step\n",
        "\n",
        "As usual, to do the model forward step, we need to batch our data and convert it to tensors. To do that, we are going to use 2 main tools:\n",
        "\n",
        "- Torchvision transformations: They will allow us to convert our pillow images to tensors and also add data augmentation if needed.\n",
        "- Torch DataLoaders: Dataloaders allow us to load our datasets in a batched manner. Also, they provide a lot of extra functionalities such as parallel loading and shuffling.\n",
        "\n",
        "First, we define the transformations and the datasets with the transforms attached."
      ]
    },
    {
      "cell_type": "code",
      "metadata": {
        "id": "h7gqYEaK4WK0",
        "colab_type": "code",
        "colab": {}
      },
      "source": [
        "import torchvision.transforms as T\n",
        "\n",
        "tfms = T.Compose([T.Resize(224, 224), T.ToTensor()])\n",
        "\n",
        "train_ds = zsl.data.ZSLImageFolder(\n",
        "    BASE_PATH / 'train', \n",
        "    class_to_repr=class_to_semantic,\n",
        "    zero_shot_classes=zs_classes,\n",
        "    transform=tfms,\n",
        "    load_unseen=False)\n",
        "\n",
        "valid_ds = zsl.data.ZSLImageFolder(\n",
        "    BASE_PATH / 'valid', \n",
        "    class_to_repr=class_to_semantic,\n",
        "    zero_shot_classes=zs_classes,\n",
        "    transform=tfms,\n",
        "    load_unseen=True)\n",
        "\n",
        "test_ds = zsl.data.ZSLImageFolder(\n",
        "    BASE_PATH / 'test', \n",
        "    class_to_repr=class_to_semantic,\n",
        "    zero_shot_classes=zs_classes,\n",
        "    transform=tfms,\n",
        "    load_unseen=True)"
      ],
      "execution_count": 0,
      "outputs": []
    },
    {
      "cell_type": "code",
      "metadata": {
        "id": "-JKdWo1t4WWm",
        "colab_type": "code",
        "colab": {
          "base_uri": "https://localhost:8080/",
          "height": 88
        },
        "outputId": "42d824e9-bbbd-4d58-faf3-238dde9ec813"
      },
      "source": [
        "idx = random.randint(0, len(train_ds))\n",
        "image, label, semantic = train_ds[idx]\n",
        "\n",
        "print('Image:', image.size())\n",
        "print('Label:', train_ds.classes[label])\n",
        "print('Description:', ' '.join(vocab.itos[i] for i in semantic.tolist()))"
      ],
      "execution_count": 24,
      "outputs": [
        {
          "output_type": "stream",
          "text": [
            "Image: torch.Size([3, 224, 224])\n",
            "Label: BLACK-NECKED GREBE\n",
            "Description: the black necked grebe podiceps nigricollis known in north america as the eared grebe is a member of the grebe family of water birds it was described in 1831 by christian ludwig brehm\n"
          ],
          "name": "stdout"
        }
      ]
    },
    {
      "cell_type": "code",
      "metadata": {
        "id": "c02b3owf7dlo",
        "colab_type": "code",
        "colab": {}
      },
      "source": [
        "from torch.utils.data import DataLoader\n",
        "\n",
        "collate_fn = functools.partial(zsl.utils.collate_image_folder, \n",
        "                               padding_idx=vocab.stoi['<pad>'])\n",
        "\n",
        "train_dl = DataLoader(train_ds, \n",
        "                      batch_size=32,\n",
        "                      shuffle=True, \n",
        "                      collate_fn=collate_fn)\n",
        "\n",
        "valid_dl = DataLoader(valid_ds, batch_size=16, collate_fn=collate_fn)\n",
        "\n",
        "test_dl = DataLoader(test_ds, batch_size=16, collate_fn=collate_fn)"
      ],
      "execution_count": 0,
      "outputs": []
    },
    {
      "cell_type": "code",
      "metadata": {
        "id": "94sG0j7k7wBc",
        "colab_type": "code",
        "colab": {}
      },
      "source": [
        "images, _, semantics = next(iter(train_dl))\n",
        "images_embeds, semantics_embeds = zs_model(images.to(device), \n",
        "                                           semantics.to(device))\n",
        "\n",
        "images_embeds.size(), semantics_embeds.size()"
      ],
      "execution_count": 0,
      "outputs": []
    },
    {
      "cell_type": "markdown",
      "metadata": {
        "id": "VmpU57YqLlX8",
        "colab_type": "text"
      },
      "source": [
        "### Model training"
      ]
    },
    {
      "cell_type": "code",
      "metadata": {
        "id": "-fmttk9ELlRZ",
        "colab_type": "code",
        "colab": {}
      },
      "source": [
        "parameters = [p for p in zs_model.parameters() if p.requires_grad]\n",
        "optimizer = torch.optim.AdamW(parameters, 1e-4)\n",
        "criterion_fn = torch.nn.MSELoss()"
      ],
      "execution_count": 0,
      "outputs": []
    },
    {
      "cell_type": "code",
      "metadata": {
        "id": "OQ6eqG4gL0WO",
        "colab_type": "code",
        "colab": {}
      },
      "source": [
        "def train_single_epoch(epoch):\n",
        "    running_loss = 0.0\n",
        "    for i, (images, _, semantics) in enumerate(train_dl):\n",
        "        print('.', end='')\n",
        "        sys.stdout.flush()\n",
        "\n",
        "        images = images.to(device)\n",
        "        semantics = semantics.to(device)\n",
        "\n",
        "        visual_embeds, semantic_embed = zs_model(images, semantics)\n",
        "        loss = criterion_fn(visual_embeds, semantic_embed)\n",
        "\n",
        "        optimizer.zero_grad()\n",
        "        loss.backward()\n",
        "        torch.nn.utils.clip_grad_norm_(1.)\n",
        "        optimizer.step()\n",
        "\n",
        "        running_loss += loss.item()\n",
        "\n",
        "        if (i + 1) % 50 == 0:\n",
        "            loss_mean = running_loss / float(i)\n",
        "            print()\n",
        "            print(f'Epoch [{epoch}] [{i}/{len(train_dl)}] '\n",
        "                  f'loss: {loss_mean:.4f}')\n",
        "\n",
        "\n",
        "@torch.no_grad()\n",
        "def evaluate():\n",
        "    def print_metrics(step):\n",
        "        print()\n",
        "        metrics = {m: v / step for m, v in running_metrics.items()}\n",
        "        metrics_str = '  '.join(f'{m}: {v:.4f}' for m, v in metrics.items())\n",
        "        print('Validation ', metrics_str)\n",
        "\n",
        "    padded_descriptions = torch.nn.utils.rnn.pad_sequence(\n",
        "        valid_ds.semantic_representations(), batch_first=True).to(device)\n",
        "    all_classes_reprs = zs_model(semantic_repr=padded_descriptions)[0]\n",
        "\n",
        "    running_metrics = {\n",
        "        'loss': 0.,\n",
        "        'accruacy': 0., \n",
        "        'top_5_accuracy': 0.}\n",
        "\n",
        "    for i, (images, y_true, semantics) in enumerate(valid_dl):\n",
        "        print('.', end='')\n",
        "        sys.stdout.flush()\n",
        "\n",
        "        images = images.to(device)\n",
        "        semantics = semantics.to(device)\n",
        "        y_true = y_true.to(device)\n",
        "\n",
        "        visual_embeds, semantic_embed = zs_model(images, semantics)\n",
        "        loss = criterion_fn(visual_embeds, semantic_embed)\n",
        "\n",
        "        running_metrics['loss'] += loss.item()\n",
        "        running_metrics['accruacy'] += zsl.nn.accuracy(\n",
        "            visual_embeds, all_classes_reprs, y_true).item()\n",
        "        running_metrics['top_5_accuracy'] += zsl.nn.top_5_accuracy(\n",
        "            visual_embeds, all_classes_reprs, y_true).item()\n",
        "\n",
        "        # if (i + 1) % 20 == 0:\n",
        "        #     print_metrics(i)\n",
        "\n",
        "    print_metrics(len(valid_dl))\n",
        "    "
      ],
      "execution_count": 0,
      "outputs": []
    },
    {
      "cell_type": "code",
      "metadata": {
        "id": "WhXDeG2z_G8-",
        "colab_type": "code",
        "colab": {}
      },
      "source": [
        "EPOCHS = 10\n",
        "for epoch in range(EPOCHS):\n",
        "    train_single_epoch(epoch)\n",
        "    print('Running validation', end='')\n",
        "    evaluate()"
      ],
      "execution_count": 0,
      "outputs": []
    },
    {
      "cell_type": "code",
      "metadata": {
        "id": "2wAeITGlLklX",
        "colab_type": "code",
        "colab": {}
      },
      "source": [
        ""
      ],
      "execution_count": 0,
      "outputs": []
    }
  ]
}